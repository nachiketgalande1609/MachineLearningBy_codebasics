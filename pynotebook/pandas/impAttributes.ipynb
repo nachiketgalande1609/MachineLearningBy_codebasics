{
 "cells": [
  {
   "cell_type": "code",
   "execution_count": 88,
   "metadata": {},
   "outputs": [],
   "source": [
    "import pandas as pd\n",
    "\n",
    "df = pd.read_csv('finance.csv')"
   ]
  },
  {
   "cell_type": "code",
   "execution_count": 95,
   "metadata": {},
   "outputs": [],
   "source": [
    "df.drop(['Group', 'Series_title_1', 'Series_title_2'], axis=1, inplace=True)"
   ]
  },
  {
   "cell_type": "code",
   "execution_count": 96,
   "metadata": {},
   "outputs": [
    {
     "data": {
      "text/html": [
       "<div>\n",
       "<style scoped>\n",
       "    .dataframe tbody tr th:only-of-type {\n",
       "        vertical-align: middle;\n",
       "    }\n",
       "\n",
       "    .dataframe tbody tr th {\n",
       "        vertical-align: top;\n",
       "    }\n",
       "\n",
       "    .dataframe thead th {\n",
       "        text-align: right;\n",
       "    }\n",
       "</style>\n",
       "<table border=\"1\" class=\"dataframe\">\n",
       "  <thead>\n",
       "    <tr style=\"text-align: right;\">\n",
       "      <th></th>\n",
       "      <th>Series_reference</th>\n",
       "      <th>Period</th>\n",
       "      <th>Data_value</th>\n",
       "      <th>Suppressed</th>\n",
       "      <th>STATUS</th>\n",
       "      <th>UNITS</th>\n",
       "      <th>Magnitude</th>\n",
       "      <th>Series_title_3</th>\n",
       "      <th>Series_title_4</th>\n",
       "      <th>Series_title_5</th>\n",
       "    </tr>\n",
       "  </thead>\n",
       "  <tbody>\n",
       "    <tr>\n",
       "      <th>0</th>\n",
       "      <td>BDCQ.SF1AA2CA</td>\n",
       "      <td>2016.06</td>\n",
       "      <td>1116.386</td>\n",
       "      <td>NaN</td>\n",
       "      <td>F</td>\n",
       "      <td>Dollars</td>\n",
       "      <td>6</td>\n",
       "      <td>Current prices</td>\n",
       "      <td>Unadjusted</td>\n",
       "      <td>NaN</td>\n",
       "    </tr>\n",
       "    <tr>\n",
       "      <th>1</th>\n",
       "      <td>BDCQ.SF1AA2CA</td>\n",
       "      <td>2016.09</td>\n",
       "      <td>1070.874</td>\n",
       "      <td>NaN</td>\n",
       "      <td>F</td>\n",
       "      <td>Dollars</td>\n",
       "      <td>6</td>\n",
       "      <td>Current prices</td>\n",
       "      <td>Unadjusted</td>\n",
       "      <td>NaN</td>\n",
       "    </tr>\n",
       "    <tr>\n",
       "      <th>2</th>\n",
       "      <td>BDCQ.SF1AA2CA</td>\n",
       "      <td>2016.12</td>\n",
       "      <td>1054.408</td>\n",
       "      <td>NaN</td>\n",
       "      <td>F</td>\n",
       "      <td>Dollars</td>\n",
       "      <td>6</td>\n",
       "      <td>Current prices</td>\n",
       "      <td>Unadjusted</td>\n",
       "      <td>NaN</td>\n",
       "    </tr>\n",
       "    <tr>\n",
       "      <th>3</th>\n",
       "      <td>BDCQ.SF1AA2CA</td>\n",
       "      <td>2017.03</td>\n",
       "      <td>1010.665</td>\n",
       "      <td>NaN</td>\n",
       "      <td>F</td>\n",
       "      <td>Dollars</td>\n",
       "      <td>6</td>\n",
       "      <td>Current prices</td>\n",
       "      <td>Unadjusted</td>\n",
       "      <td>NaN</td>\n",
       "    </tr>\n",
       "    <tr>\n",
       "      <th>4</th>\n",
       "      <td>BDCQ.SF1AA2CA</td>\n",
       "      <td>2017.06</td>\n",
       "      <td>1233.700</td>\n",
       "      <td>NaN</td>\n",
       "      <td>F</td>\n",
       "      <td>Dollars</td>\n",
       "      <td>6</td>\n",
       "      <td>Current prices</td>\n",
       "      <td>Unadjusted</td>\n",
       "      <td>NaN</td>\n",
       "    </tr>\n",
       "    <tr>\n",
       "      <th>...</th>\n",
       "      <td>...</td>\n",
       "      <td>...</td>\n",
       "      <td>...</td>\n",
       "      <td>...</td>\n",
       "      <td>...</td>\n",
       "      <td>...</td>\n",
       "      <td>...</td>\n",
       "      <td>...</td>\n",
       "      <td>...</td>\n",
       "      <td>...</td>\n",
       "    </tr>\n",
       "    <tr>\n",
       "      <th>6190</th>\n",
       "      <td>BDCQ.SF8RSCA</td>\n",
       "      <td>2021.09</td>\n",
       "      <td>382.195</td>\n",
       "      <td>NaN</td>\n",
       "      <td>F</td>\n",
       "      <td>Dollars</td>\n",
       "      <td>6</td>\n",
       "      <td>Current</td>\n",
       "      <td>Unadjusted</td>\n",
       "      <td>NaN</td>\n",
       "    </tr>\n",
       "    <tr>\n",
       "      <th>6191</th>\n",
       "      <td>BDCQ.SF8RSCA</td>\n",
       "      <td>2021.12</td>\n",
       "      <td>397.184</td>\n",
       "      <td>NaN</td>\n",
       "      <td>F</td>\n",
       "      <td>Dollars</td>\n",
       "      <td>6</td>\n",
       "      <td>Current</td>\n",
       "      <td>Unadjusted</td>\n",
       "      <td>NaN</td>\n",
       "    </tr>\n",
       "    <tr>\n",
       "      <th>6192</th>\n",
       "      <td>BDCQ.SF8RSCA</td>\n",
       "      <td>2022.03</td>\n",
       "      <td>493.945</td>\n",
       "      <td>NaN</td>\n",
       "      <td>F</td>\n",
       "      <td>Dollars</td>\n",
       "      <td>6</td>\n",
       "      <td>Current</td>\n",
       "      <td>Unadjusted</td>\n",
       "      <td>NaN</td>\n",
       "    </tr>\n",
       "    <tr>\n",
       "      <th>6193</th>\n",
       "      <td>BDCQ.SF8RSCA</td>\n",
       "      <td>2022.06</td>\n",
       "      <td>579.955</td>\n",
       "      <td>NaN</td>\n",
       "      <td>R</td>\n",
       "      <td>Dollars</td>\n",
       "      <td>6</td>\n",
       "      <td>Current</td>\n",
       "      <td>Unadjusted</td>\n",
       "      <td>NaN</td>\n",
       "    </tr>\n",
       "    <tr>\n",
       "      <th>6194</th>\n",
       "      <td>BDCQ.SF8RSCA</td>\n",
       "      <td>2022.09</td>\n",
       "      <td>609.161</td>\n",
       "      <td>NaN</td>\n",
       "      <td>F</td>\n",
       "      <td>Dollars</td>\n",
       "      <td>6</td>\n",
       "      <td>Current</td>\n",
       "      <td>Unadjusted</td>\n",
       "      <td>NaN</td>\n",
       "    </tr>\n",
       "  </tbody>\n",
       "</table>\n",
       "<p>6195 rows × 10 columns</p>\n",
       "</div>"
      ],
      "text/plain": [
       "     Series_reference   Period  Data_value Suppressed STATUS    UNITS  \\\n",
       "0       BDCQ.SF1AA2CA  2016.06    1116.386        NaN      F  Dollars   \n",
       "1       BDCQ.SF1AA2CA  2016.09    1070.874        NaN      F  Dollars   \n",
       "2       BDCQ.SF1AA2CA  2016.12    1054.408        NaN      F  Dollars   \n",
       "3       BDCQ.SF1AA2CA  2017.03    1010.665        NaN      F  Dollars   \n",
       "4       BDCQ.SF1AA2CA  2017.06    1233.700        NaN      F  Dollars   \n",
       "...               ...      ...         ...        ...    ...      ...   \n",
       "6190     BDCQ.SF8RSCA  2021.09     382.195        NaN      F  Dollars   \n",
       "6191     BDCQ.SF8RSCA  2021.12     397.184        NaN      F  Dollars   \n",
       "6192     BDCQ.SF8RSCA  2022.03     493.945        NaN      F  Dollars   \n",
       "6193     BDCQ.SF8RSCA  2022.06     579.955        NaN      R  Dollars   \n",
       "6194     BDCQ.SF8RSCA  2022.09     609.161        NaN      F  Dollars   \n",
       "\n",
       "      Magnitude  Series_title_3 Series_title_4  Series_title_5  \n",
       "0             6  Current prices     Unadjusted             NaN  \n",
       "1             6  Current prices     Unadjusted             NaN  \n",
       "2             6  Current prices     Unadjusted             NaN  \n",
       "3             6  Current prices     Unadjusted             NaN  \n",
       "4             6  Current prices     Unadjusted             NaN  \n",
       "...         ...             ...            ...             ...  \n",
       "6190          6         Current     Unadjusted             NaN  \n",
       "6191          6         Current     Unadjusted             NaN  \n",
       "6192          6         Current     Unadjusted             NaN  \n",
       "6193          6         Current     Unadjusted             NaN  \n",
       "6194          6         Current     Unadjusted             NaN  \n",
       "\n",
       "[6195 rows x 10 columns]"
      ]
     },
     "execution_count": 96,
     "metadata": {},
     "output_type": "execute_result"
    }
   ],
   "source": [
    "df"
   ]
  },
  {
   "cell_type": "code",
   "execution_count": 97,
   "metadata": {},
   "outputs": [
    {
     "data": {
      "text/plain": [
       "RangeIndex(start=0, stop=6195, step=1)"
      ]
     },
     "execution_count": 97,
     "metadata": {},
     "output_type": "execute_result"
    }
   ],
   "source": [
    "df.index"
   ]
  },
  {
   "cell_type": "code",
   "execution_count": 98,
   "metadata": {},
   "outputs": [
    {
     "data": {
      "text/plain": [
       "Index(['Series_reference', 'Period', 'Data_value', 'Suppressed', 'STATUS',\n",
       "       'UNITS', 'Magnitude', 'Series_title_3', 'Series_title_4',\n",
       "       'Series_title_5'],\n",
       "      dtype='object')"
      ]
     },
     "execution_count": 98,
     "metadata": {},
     "output_type": "execute_result"
    }
   ],
   "source": [
    "df.columns"
   ]
  },
  {
   "cell_type": "code",
   "execution_count": 99,
   "metadata": {},
   "outputs": [
    {
     "data": {
      "text/plain": [
       "[RangeIndex(start=0, stop=6195, step=1),\n",
       " Index(['Series_reference', 'Period', 'Data_value', 'Suppressed', 'STATUS',\n",
       "        'UNITS', 'Magnitude', 'Series_title_3', 'Series_title_4',\n",
       "        'Series_title_5'],\n",
       "       dtype='object')]"
      ]
     },
     "execution_count": 99,
     "metadata": {},
     "output_type": "execute_result"
    }
   ],
   "source": [
    "df.axes"
   ]
  },
  {
   "cell_type": "code",
   "execution_count": 100,
   "metadata": {},
   "outputs": [
    {
     "data": {
      "text/plain": [
       "Series_reference     object\n",
       "Period              float64\n",
       "Data_value          float64\n",
       "Suppressed           object\n",
       "STATUS               object\n",
       "UNITS                object\n",
       "Magnitude             int64\n",
       "Series_title_3       object\n",
       "Series_title_4       object\n",
       "Series_title_5      float64\n",
       "dtype: object"
      ]
     },
     "execution_count": 100,
     "metadata": {},
     "output_type": "execute_result"
    }
   ],
   "source": [
    "df.dtypes"
   ]
  },
  {
   "cell_type": "code",
   "execution_count": 101,
   "metadata": {},
   "outputs": [
    {
     "data": {
      "text/plain": [
       "61950"
      ]
     },
     "execution_count": 101,
     "metadata": {},
     "output_type": "execute_result"
    }
   ],
   "source": [
    "df.size"
   ]
  },
  {
   "cell_type": "code",
   "execution_count": 102,
   "metadata": {},
   "outputs": [
    {
     "data": {
      "text/plain": [
       "(6195, 10)"
      ]
     },
     "execution_count": 102,
     "metadata": {},
     "output_type": "execute_result"
    }
   ],
   "source": [
    "df.shape"
   ]
  },
  {
   "cell_type": "code",
   "execution_count": 103,
   "metadata": {},
   "outputs": [
    {
     "data": {
      "text/plain": [
       "2"
      ]
     },
     "execution_count": 103,
     "metadata": {},
     "output_type": "execute_result"
    }
   ],
   "source": [
    "df.ndim"
   ]
  },
  {
   "cell_type": "code",
   "execution_count": 104,
   "metadata": {},
   "outputs": [
    {
     "data": {
      "text/plain": [
       "False"
      ]
     },
     "execution_count": 104,
     "metadata": {},
     "output_type": "execute_result"
    }
   ],
   "source": [
    "df.empty"
   ]
  },
  {
   "cell_type": "code",
   "execution_count": 105,
   "metadata": {},
   "outputs": [
    {
     "data": {
      "text/html": [
       "<div>\n",
       "<style scoped>\n",
       "    .dataframe tbody tr th:only-of-type {\n",
       "        vertical-align: middle;\n",
       "    }\n",
       "\n",
       "    .dataframe tbody tr th {\n",
       "        vertical-align: top;\n",
       "    }\n",
       "\n",
       "    .dataframe thead th {\n",
       "        text-align: right;\n",
       "    }\n",
       "</style>\n",
       "<table border=\"1\" class=\"dataframe\">\n",
       "  <thead>\n",
       "    <tr style=\"text-align: right;\">\n",
       "      <th></th>\n",
       "      <th>0</th>\n",
       "      <th>1</th>\n",
       "      <th>2</th>\n",
       "      <th>3</th>\n",
       "      <th>4</th>\n",
       "      <th>5</th>\n",
       "      <th>6</th>\n",
       "      <th>7</th>\n",
       "      <th>8</th>\n",
       "      <th>9</th>\n",
       "      <th>...</th>\n",
       "      <th>6185</th>\n",
       "      <th>6186</th>\n",
       "      <th>6187</th>\n",
       "      <th>6188</th>\n",
       "      <th>6189</th>\n",
       "      <th>6190</th>\n",
       "      <th>6191</th>\n",
       "      <th>6192</th>\n",
       "      <th>6193</th>\n",
       "      <th>6194</th>\n",
       "    </tr>\n",
       "  </thead>\n",
       "  <tbody>\n",
       "    <tr>\n",
       "      <th>Series_reference</th>\n",
       "      <td>BDCQ.SF1AA2CA</td>\n",
       "      <td>BDCQ.SF1AA2CA</td>\n",
       "      <td>BDCQ.SF1AA2CA</td>\n",
       "      <td>BDCQ.SF1AA2CA</td>\n",
       "      <td>BDCQ.SF1AA2CA</td>\n",
       "      <td>BDCQ.SF1AA2CA</td>\n",
       "      <td>BDCQ.SF1AA2CA</td>\n",
       "      <td>BDCQ.SF1AA2CA</td>\n",
       "      <td>BDCQ.SF1AA2CA</td>\n",
       "      <td>BDCQ.SF1AA2CA</td>\n",
       "      <td>...</td>\n",
       "      <td>BDCQ.SF8RSCA</td>\n",
       "      <td>BDCQ.SF8RSCA</td>\n",
       "      <td>BDCQ.SF8RSCA</td>\n",
       "      <td>BDCQ.SF8RSCA</td>\n",
       "      <td>BDCQ.SF8RSCA</td>\n",
       "      <td>BDCQ.SF8RSCA</td>\n",
       "      <td>BDCQ.SF8RSCA</td>\n",
       "      <td>BDCQ.SF8RSCA</td>\n",
       "      <td>BDCQ.SF8RSCA</td>\n",
       "      <td>BDCQ.SF8RSCA</td>\n",
       "    </tr>\n",
       "    <tr>\n",
       "      <th>Period</th>\n",
       "      <td>2016.06</td>\n",
       "      <td>2016.09</td>\n",
       "      <td>2016.12</td>\n",
       "      <td>2017.03</td>\n",
       "      <td>2017.06</td>\n",
       "      <td>2017.09</td>\n",
       "      <td>2017.12</td>\n",
       "      <td>2018.03</td>\n",
       "      <td>2018.06</td>\n",
       "      <td>2018.09</td>\n",
       "      <td>...</td>\n",
       "      <td>2020.06</td>\n",
       "      <td>2020.09</td>\n",
       "      <td>2020.12</td>\n",
       "      <td>2021.03</td>\n",
       "      <td>2021.06</td>\n",
       "      <td>2021.09</td>\n",
       "      <td>2021.12</td>\n",
       "      <td>2022.03</td>\n",
       "      <td>2022.06</td>\n",
       "      <td>2022.09</td>\n",
       "    </tr>\n",
       "    <tr>\n",
       "      <th>Data_value</th>\n",
       "      <td>1116.386</td>\n",
       "      <td>1070.874</td>\n",
       "      <td>1054.408</td>\n",
       "      <td>1010.665</td>\n",
       "      <td>1233.7</td>\n",
       "      <td>1282.436</td>\n",
       "      <td>1290.82</td>\n",
       "      <td>1412.007</td>\n",
       "      <td>1488.055</td>\n",
       "      <td>1497.678</td>\n",
       "      <td>...</td>\n",
       "      <td>133.586</td>\n",
       "      <td>470.454</td>\n",
       "      <td>522.33</td>\n",
       "      <td>597.997</td>\n",
       "      <td>635.931</td>\n",
       "      <td>382.195</td>\n",
       "      <td>397.184</td>\n",
       "      <td>493.945</td>\n",
       "      <td>579.955</td>\n",
       "      <td>609.161</td>\n",
       "    </tr>\n",
       "    <tr>\n",
       "      <th>Suppressed</th>\n",
       "      <td>NaN</td>\n",
       "      <td>NaN</td>\n",
       "      <td>NaN</td>\n",
       "      <td>NaN</td>\n",
       "      <td>NaN</td>\n",
       "      <td>NaN</td>\n",
       "      <td>NaN</td>\n",
       "      <td>NaN</td>\n",
       "      <td>NaN</td>\n",
       "      <td>NaN</td>\n",
       "      <td>...</td>\n",
       "      <td>NaN</td>\n",
       "      <td>NaN</td>\n",
       "      <td>NaN</td>\n",
       "      <td>NaN</td>\n",
       "      <td>NaN</td>\n",
       "      <td>NaN</td>\n",
       "      <td>NaN</td>\n",
       "      <td>NaN</td>\n",
       "      <td>NaN</td>\n",
       "      <td>NaN</td>\n",
       "    </tr>\n",
       "    <tr>\n",
       "      <th>STATUS</th>\n",
       "      <td>F</td>\n",
       "      <td>F</td>\n",
       "      <td>F</td>\n",
       "      <td>F</td>\n",
       "      <td>F</td>\n",
       "      <td>F</td>\n",
       "      <td>F</td>\n",
       "      <td>F</td>\n",
       "      <td>F</td>\n",
       "      <td>F</td>\n",
       "      <td>...</td>\n",
       "      <td>F</td>\n",
       "      <td>F</td>\n",
       "      <td>F</td>\n",
       "      <td>F</td>\n",
       "      <td>F</td>\n",
       "      <td>F</td>\n",
       "      <td>F</td>\n",
       "      <td>F</td>\n",
       "      <td>R</td>\n",
       "      <td>F</td>\n",
       "    </tr>\n",
       "    <tr>\n",
       "      <th>UNITS</th>\n",
       "      <td>Dollars</td>\n",
       "      <td>Dollars</td>\n",
       "      <td>Dollars</td>\n",
       "      <td>Dollars</td>\n",
       "      <td>Dollars</td>\n",
       "      <td>Dollars</td>\n",
       "      <td>Dollars</td>\n",
       "      <td>Dollars</td>\n",
       "      <td>Dollars</td>\n",
       "      <td>Dollars</td>\n",
       "      <td>...</td>\n",
       "      <td>Dollars</td>\n",
       "      <td>Dollars</td>\n",
       "      <td>Dollars</td>\n",
       "      <td>Dollars</td>\n",
       "      <td>Dollars</td>\n",
       "      <td>Dollars</td>\n",
       "      <td>Dollars</td>\n",
       "      <td>Dollars</td>\n",
       "      <td>Dollars</td>\n",
       "      <td>Dollars</td>\n",
       "    </tr>\n",
       "    <tr>\n",
       "      <th>Magnitude</th>\n",
       "      <td>6</td>\n",
       "      <td>6</td>\n",
       "      <td>6</td>\n",
       "      <td>6</td>\n",
       "      <td>6</td>\n",
       "      <td>6</td>\n",
       "      <td>6</td>\n",
       "      <td>6</td>\n",
       "      <td>6</td>\n",
       "      <td>6</td>\n",
       "      <td>...</td>\n",
       "      <td>6</td>\n",
       "      <td>6</td>\n",
       "      <td>6</td>\n",
       "      <td>6</td>\n",
       "      <td>6</td>\n",
       "      <td>6</td>\n",
       "      <td>6</td>\n",
       "      <td>6</td>\n",
       "      <td>6</td>\n",
       "      <td>6</td>\n",
       "    </tr>\n",
       "    <tr>\n",
       "      <th>Series_title_3</th>\n",
       "      <td>Current prices</td>\n",
       "      <td>Current prices</td>\n",
       "      <td>Current prices</td>\n",
       "      <td>Current prices</td>\n",
       "      <td>Current prices</td>\n",
       "      <td>Current prices</td>\n",
       "      <td>Current prices</td>\n",
       "      <td>Current prices</td>\n",
       "      <td>Current prices</td>\n",
       "      <td>Current prices</td>\n",
       "      <td>...</td>\n",
       "      <td>Current</td>\n",
       "      <td>Current</td>\n",
       "      <td>Current</td>\n",
       "      <td>Current</td>\n",
       "      <td>Current</td>\n",
       "      <td>Current</td>\n",
       "      <td>Current</td>\n",
       "      <td>Current</td>\n",
       "      <td>Current</td>\n",
       "      <td>Current</td>\n",
       "    </tr>\n",
       "    <tr>\n",
       "      <th>Series_title_4</th>\n",
       "      <td>Unadjusted</td>\n",
       "      <td>Unadjusted</td>\n",
       "      <td>Unadjusted</td>\n",
       "      <td>Unadjusted</td>\n",
       "      <td>Unadjusted</td>\n",
       "      <td>Unadjusted</td>\n",
       "      <td>Unadjusted</td>\n",
       "      <td>Unadjusted</td>\n",
       "      <td>Unadjusted</td>\n",
       "      <td>Unadjusted</td>\n",
       "      <td>...</td>\n",
       "      <td>Unadjusted</td>\n",
       "      <td>Unadjusted</td>\n",
       "      <td>Unadjusted</td>\n",
       "      <td>Unadjusted</td>\n",
       "      <td>Unadjusted</td>\n",
       "      <td>Unadjusted</td>\n",
       "      <td>Unadjusted</td>\n",
       "      <td>Unadjusted</td>\n",
       "      <td>Unadjusted</td>\n",
       "      <td>Unadjusted</td>\n",
       "    </tr>\n",
       "    <tr>\n",
       "      <th>Series_title_5</th>\n",
       "      <td>NaN</td>\n",
       "      <td>NaN</td>\n",
       "      <td>NaN</td>\n",
       "      <td>NaN</td>\n",
       "      <td>NaN</td>\n",
       "      <td>NaN</td>\n",
       "      <td>NaN</td>\n",
       "      <td>NaN</td>\n",
       "      <td>NaN</td>\n",
       "      <td>NaN</td>\n",
       "      <td>...</td>\n",
       "      <td>NaN</td>\n",
       "      <td>NaN</td>\n",
       "      <td>NaN</td>\n",
       "      <td>NaN</td>\n",
       "      <td>NaN</td>\n",
       "      <td>NaN</td>\n",
       "      <td>NaN</td>\n",
       "      <td>NaN</td>\n",
       "      <td>NaN</td>\n",
       "      <td>NaN</td>\n",
       "    </tr>\n",
       "  </tbody>\n",
       "</table>\n",
       "<p>10 rows × 6195 columns</p>\n",
       "</div>"
      ],
      "text/plain": [
       "                            0               1               2     \\\n",
       "Series_reference   BDCQ.SF1AA2CA   BDCQ.SF1AA2CA   BDCQ.SF1AA2CA   \n",
       "Period                   2016.06         2016.09         2016.12   \n",
       "Data_value              1116.386        1070.874        1054.408   \n",
       "Suppressed                   NaN             NaN             NaN   \n",
       "STATUS                         F               F               F   \n",
       "UNITS                    Dollars         Dollars         Dollars   \n",
       "Magnitude                      6               6               6   \n",
       "Series_title_3    Current prices  Current prices  Current prices   \n",
       "Series_title_4        Unadjusted      Unadjusted      Unadjusted   \n",
       "Series_title_5               NaN             NaN             NaN   \n",
       "\n",
       "                            3               4               5     \\\n",
       "Series_reference   BDCQ.SF1AA2CA   BDCQ.SF1AA2CA   BDCQ.SF1AA2CA   \n",
       "Period                   2017.03         2017.06         2017.09   \n",
       "Data_value              1010.665          1233.7        1282.436   \n",
       "Suppressed                   NaN             NaN             NaN   \n",
       "STATUS                         F               F               F   \n",
       "UNITS                    Dollars         Dollars         Dollars   \n",
       "Magnitude                      6               6               6   \n",
       "Series_title_3    Current prices  Current prices  Current prices   \n",
       "Series_title_4        Unadjusted      Unadjusted      Unadjusted   \n",
       "Series_title_5               NaN             NaN             NaN   \n",
       "\n",
       "                            6               7               8     \\\n",
       "Series_reference   BDCQ.SF1AA2CA   BDCQ.SF1AA2CA   BDCQ.SF1AA2CA   \n",
       "Period                   2017.12         2018.03         2018.06   \n",
       "Data_value               1290.82        1412.007        1488.055   \n",
       "Suppressed                   NaN             NaN             NaN   \n",
       "STATUS                         F               F               F   \n",
       "UNITS                    Dollars         Dollars         Dollars   \n",
       "Magnitude                      6               6               6   \n",
       "Series_title_3    Current prices  Current prices  Current prices   \n",
       "Series_title_4        Unadjusted      Unadjusted      Unadjusted   \n",
       "Series_title_5               NaN             NaN             NaN   \n",
       "\n",
       "                            9     ...          6185          6186  \\\n",
       "Series_reference   BDCQ.SF1AA2CA  ...  BDCQ.SF8RSCA  BDCQ.SF8RSCA   \n",
       "Period                   2018.09  ...       2020.06       2020.09   \n",
       "Data_value              1497.678  ...       133.586       470.454   \n",
       "Suppressed                   NaN  ...           NaN           NaN   \n",
       "STATUS                         F  ...             F             F   \n",
       "UNITS                    Dollars  ...       Dollars       Dollars   \n",
       "Magnitude                      6  ...             6             6   \n",
       "Series_title_3    Current prices  ...       Current       Current   \n",
       "Series_title_4        Unadjusted  ...    Unadjusted    Unadjusted   \n",
       "Series_title_5               NaN  ...           NaN           NaN   \n",
       "\n",
       "                          6187          6188          6189          6190  \\\n",
       "Series_reference  BDCQ.SF8RSCA  BDCQ.SF8RSCA  BDCQ.SF8RSCA  BDCQ.SF8RSCA   \n",
       "Period                 2020.12       2021.03       2021.06       2021.09   \n",
       "Data_value              522.33       597.997       635.931       382.195   \n",
       "Suppressed                 NaN           NaN           NaN           NaN   \n",
       "STATUS                       F             F             F             F   \n",
       "UNITS                  Dollars       Dollars       Dollars       Dollars   \n",
       "Magnitude                    6             6             6             6   \n",
       "Series_title_3         Current       Current       Current       Current   \n",
       "Series_title_4      Unadjusted    Unadjusted    Unadjusted    Unadjusted   \n",
       "Series_title_5             NaN           NaN           NaN           NaN   \n",
       "\n",
       "                          6191          6192          6193          6194  \n",
       "Series_reference  BDCQ.SF8RSCA  BDCQ.SF8RSCA  BDCQ.SF8RSCA  BDCQ.SF8RSCA  \n",
       "Period                 2021.12       2022.03       2022.06       2022.09  \n",
       "Data_value             397.184       493.945       579.955       609.161  \n",
       "Suppressed                 NaN           NaN           NaN           NaN  \n",
       "STATUS                       F             F             R             F  \n",
       "UNITS                  Dollars       Dollars       Dollars       Dollars  \n",
       "Magnitude                    6             6             6             6  \n",
       "Series_title_3         Current       Current       Current       Current  \n",
       "Series_title_4      Unadjusted    Unadjusted    Unadjusted    Unadjusted  \n",
       "Series_title_5             NaN           NaN           NaN           NaN  \n",
       "\n",
       "[10 rows x 6195 columns]"
      ]
     },
     "execution_count": 105,
     "metadata": {},
     "output_type": "execute_result"
    }
   ],
   "source": [
    "df.T"
   ]
  },
  {
   "cell_type": "code",
   "execution_count": 106,
   "metadata": {},
   "outputs": [
    {
     "data": {
      "text/plain": [
       "array([['BDCQ.SF1AA2CA', 2016.06, 1116.386, ..., 'Current prices',\n",
       "        'Unadjusted', nan],\n",
       "       ['BDCQ.SF1AA2CA', 2016.09, 1070.874, ..., 'Current prices',\n",
       "        'Unadjusted', nan],\n",
       "       ['BDCQ.SF1AA2CA', 2016.12, 1054.408, ..., 'Current prices',\n",
       "        'Unadjusted', nan],\n",
       "       ...,\n",
       "       ['BDCQ.SF8RSCA', 2022.03, 493.945, ..., 'Current', 'Unadjusted',\n",
       "        nan],\n",
       "       ['BDCQ.SF8RSCA', 2022.06, 579.955, ..., 'Current', 'Unadjusted',\n",
       "        nan],\n",
       "       ['BDCQ.SF8RSCA', 2022.09, 609.161, ..., 'Current', 'Unadjusted',\n",
       "        nan]], dtype=object)"
      ]
     },
     "execution_count": 106,
     "metadata": {},
     "output_type": "execute_result"
    }
   ],
   "source": [
    "df.values"
   ]
  },
  {
   "cell_type": "code",
   "execution_count": 107,
   "metadata": {},
   "outputs": [
    {
     "data": {
      "text/plain": [
       "<bound method DataFrame.count of      Series_reference   Period  Data_value Suppressed STATUS    UNITS  \\\n",
       "0       BDCQ.SF1AA2CA  2016.06    1116.386        NaN      F  Dollars   \n",
       "1       BDCQ.SF1AA2CA  2016.09    1070.874        NaN      F  Dollars   \n",
       "2       BDCQ.SF1AA2CA  2016.12    1054.408        NaN      F  Dollars   \n",
       "3       BDCQ.SF1AA2CA  2017.03    1010.665        NaN      F  Dollars   \n",
       "4       BDCQ.SF1AA2CA  2017.06    1233.700        NaN      F  Dollars   \n",
       "...               ...      ...         ...        ...    ...      ...   \n",
       "6190     BDCQ.SF8RSCA  2021.09     382.195        NaN      F  Dollars   \n",
       "6191     BDCQ.SF8RSCA  2021.12     397.184        NaN      F  Dollars   \n",
       "6192     BDCQ.SF8RSCA  2022.03     493.945        NaN      F  Dollars   \n",
       "6193     BDCQ.SF8RSCA  2022.06     579.955        NaN      R  Dollars   \n",
       "6194     BDCQ.SF8RSCA  2022.09     609.161        NaN      F  Dollars   \n",
       "\n",
       "      Magnitude  Series_title_3 Series_title_4  Series_title_5  \n",
       "0             6  Current prices     Unadjusted             NaN  \n",
       "1             6  Current prices     Unadjusted             NaN  \n",
       "2             6  Current prices     Unadjusted             NaN  \n",
       "3             6  Current prices     Unadjusted             NaN  \n",
       "4             6  Current prices     Unadjusted             NaN  \n",
       "...         ...             ...            ...             ...  \n",
       "6190          6         Current     Unadjusted             NaN  \n",
       "6191          6         Current     Unadjusted             NaN  \n",
       "6192          6         Current     Unadjusted             NaN  \n",
       "6193          6         Current     Unadjusted             NaN  \n",
       "6194          6         Current     Unadjusted             NaN  \n",
       "\n",
       "[6195 rows x 10 columns]>"
      ]
     },
     "execution_count": 107,
     "metadata": {},
     "output_type": "execute_result"
    }
   ],
   "source": [
    "df.count"
   ]
  },
  {
   "cell_type": "code",
   "execution_count": 108,
   "metadata": {},
   "outputs": [
    {
     "data": {
      "text/plain": [
       "Index(['Series_reference', 'Period', 'Data_value', 'Suppressed', 'STATUS',\n",
       "       'UNITS', 'Magnitude', 'Series_title_3', 'Series_title_4',\n",
       "       'Series_title_5'],\n",
       "      dtype='object')"
      ]
     },
     "execution_count": 108,
     "metadata": {},
     "output_type": "execute_result"
    }
   ],
   "source": [
    "df.columns"
   ]
  },
  {
   "cell_type": "code",
   "execution_count": 110,
   "metadata": {},
   "outputs": [
    {
     "data": {
      "text/plain": [
       "<pandas.core.indexing._LocIndexer at 0x288f1f7ead0>"
      ]
     },
     "execution_count": 110,
     "metadata": {},
     "output_type": "execute_result"
    }
   ],
   "source": [
    "df.loc"
   ]
  },
  {
   "cell_type": "code",
   "execution_count": 113,
   "metadata": {},
   "outputs": [
    {
     "ename": "AttributeError",
     "evalue": "'DataFrame' object has no attribute 'ftypes'",
     "output_type": "error",
     "traceback": [
      "\u001b[1;31m---------------------------------------------------------------------------\u001b[0m",
      "\u001b[1;31mAttributeError\u001b[0m                            Traceback (most recent call last)",
      "Cell \u001b[1;32mIn[113], line 1\u001b[0m\n\u001b[1;32m----> 1\u001b[0m df\u001b[39m.\u001b[39;49mftypes\n",
      "File \u001b[1;32mc:\\Users\\nachi\\AppData\\Local\\Programs\\Python\\Python311\\Lib\\site-packages\\pandas\\core\\generic.py:5902\u001b[0m, in \u001b[0;36mNDFrame.__getattr__\u001b[1;34m(self, name)\u001b[0m\n\u001b[0;32m   5895\u001b[0m \u001b[39mif\u001b[39;00m (\n\u001b[0;32m   5896\u001b[0m     name \u001b[39mnot\u001b[39;00m \u001b[39min\u001b[39;00m \u001b[39mself\u001b[39m\u001b[39m.\u001b[39m_internal_names_set\n\u001b[0;32m   5897\u001b[0m     \u001b[39mand\u001b[39;00m name \u001b[39mnot\u001b[39;00m \u001b[39min\u001b[39;00m \u001b[39mself\u001b[39m\u001b[39m.\u001b[39m_metadata\n\u001b[0;32m   5898\u001b[0m     \u001b[39mand\u001b[39;00m name \u001b[39mnot\u001b[39;00m \u001b[39min\u001b[39;00m \u001b[39mself\u001b[39m\u001b[39m.\u001b[39m_accessors\n\u001b[0;32m   5899\u001b[0m     \u001b[39mand\u001b[39;00m \u001b[39mself\u001b[39m\u001b[39m.\u001b[39m_info_axis\u001b[39m.\u001b[39m_can_hold_identifiers_and_holds_name(name)\n\u001b[0;32m   5900\u001b[0m ):\n\u001b[0;32m   5901\u001b[0m     \u001b[39mreturn\u001b[39;00m \u001b[39mself\u001b[39m[name]\n\u001b[1;32m-> 5902\u001b[0m \u001b[39mreturn\u001b[39;00m \u001b[39mobject\u001b[39;49m\u001b[39m.\u001b[39;49m\u001b[39m__getattribute__\u001b[39;49m(\u001b[39mself\u001b[39;49m, name)\n",
      "\u001b[1;31mAttributeError\u001b[0m: 'DataFrame' object has no attribute 'ftypes'"
     ]
    }
   ],
   "source": [
    "df.ftypes"
   ]
  },
  {
   "cell_type": "code",
   "execution_count": null,
   "metadata": {},
   "outputs": [],
   "source": []
  }
 ],
 "metadata": {
  "kernelspec": {
   "display_name": "Python 3",
   "language": "python",
   "name": "python3"
  },
  "language_info": {
   "codemirror_mode": {
    "name": "ipython",
    "version": 3
   },
   "file_extension": ".py",
   "mimetype": "text/x-python",
   "name": "python",
   "nbconvert_exporter": "python",
   "pygments_lexer": "ipython3",
   "version": "3.11.1"
  },
  "orig_nbformat": 4,
  "vscode": {
   "interpreter": {
    "hash": "a1fad53b691483f4cb3fa7f3d36779a78a8bba18ac525ba296bae93b9807da9f"
   }
  }
 },
 "nbformat": 4,
 "nbformat_minor": 2
}
